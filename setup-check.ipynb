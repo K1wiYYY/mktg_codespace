{
 "cells": [
  {
   "cell_type": "code",
   "execution_count": 1,
   "metadata": {},
   "outputs": [],
   "source": [
    "import polars as pl\n",
    "import pandas as pd"
   ]
  },
  {
   "cell_type": "code",
   "execution_count": 2,
   "metadata": {},
   "outputs": [],
   "source": [
    "employees = pl.read_csv(\"https://raw.githubusercontent.com/numktg/data/main/employees.csv\")"
   ]
  },
  {
   "cell_type": "code",
   "execution_count": 3,
   "metadata": {},
   "outputs": [
    {
     "data": {
      "text/html": [
       "<div><style>\n",
       ".dataframe > thead > tr,\n",
       ".dataframe > tbody > tr {\n",
       "  text-align: right;\n",
       "  white-space: pre-wrap;\n",
       "}\n",
       "</style>\n",
       "<small>shape: (100, 6)</small><table border=\"1\" class=\"dataframe\"><thead><tr><th>id</th><th>name</th><th>age</th><th>department_id</th><th>salary</th><th>join_date</th></tr><tr><td>i64</td><td>str</td><td>i64</td><td>i64</td><td>i64</td><td>str</td></tr></thead><tbody><tr><td>1</td><td>&quot;Jeffery Vasquez&quot;</td><td>44</td><td>8</td><td>134413</td><td>&quot;2023-10-06&quot;</td></tr><tr><td>2</td><td>&quot;Alicia Coleman DVM&quot;</td><td>57</td><td>1</td><td>80856</td><td>&quot;2020-01-22&quot;</td></tr><tr><td>3</td><td>&quot;Jordan Hays&quot;</td><td>52</td><td>6</td><td>70695</td><td>&quot;2021-03-27&quot;</td></tr><tr><td>4</td><td>&quot;Jennifer Anderson&quot;</td><td>31</td><td>9</td><td>119223</td><td>&quot;2017-04-20&quot;</td></tr><tr><td>5</td><td>&quot;David Scott&quot;</td><td>41</td><td>7</td><td>105043</td><td>&quot;2015-01-24&quot;</td></tr><tr><td>&hellip;</td><td>&hellip;</td><td>&hellip;</td><td>&hellip;</td><td>&hellip;</td><td>&hellip;</td></tr><tr><td>96</td><td>&quot;William Hess&quot;</td><td>50</td><td>7</td><td>112757</td><td>&quot;2018-01-09&quot;</td></tr><tr><td>97</td><td>&quot;Gina Mason&quot;</td><td>58</td><td>2</td><td>95283</td><td>&quot;2017-01-14&quot;</td></tr><tr><td>98</td><td>&quot;Thomas Rodriguez&quot;</td><td>32</td><td>6</td><td>104515</td><td>&quot;2018-01-24&quot;</td></tr><tr><td>99</td><td>&quot;Catherine Gross&quot;</td><td>56</td><td>5</td><td>99179</td><td>&quot;2019-08-04&quot;</td></tr><tr><td>100</td><td>&quot;Joseph Bowen&quot;</td><td>28</td><td>3</td><td>76667</td><td>&quot;2021-01-18&quot;</td></tr></tbody></table></div>"
      ],
      "text/plain": [
       "shape: (100, 6)\n",
       "┌─────┬────────────────────┬─────┬───────────────┬────────┬────────────┐\n",
       "│ id  ┆ name               ┆ age ┆ department_id ┆ salary ┆ join_date  │\n",
       "│ --- ┆ ---                ┆ --- ┆ ---           ┆ ---    ┆ ---        │\n",
       "│ i64 ┆ str                ┆ i64 ┆ i64           ┆ i64    ┆ str        │\n",
       "╞═════╪════════════════════╪═════╪═══════════════╪════════╪════════════╡\n",
       "│ 1   ┆ Jeffery Vasquez    ┆ 44  ┆ 8             ┆ 134413 ┆ 2023-10-06 │\n",
       "│ 2   ┆ Alicia Coleman DVM ┆ 57  ┆ 1             ┆ 80856  ┆ 2020-01-22 │\n",
       "│ 3   ┆ Jordan Hays        ┆ 52  ┆ 6             ┆ 70695  ┆ 2021-03-27 │\n",
       "│ 4   ┆ Jennifer Anderson  ┆ 31  ┆ 9             ┆ 119223 ┆ 2017-04-20 │\n",
       "│ 5   ┆ David Scott        ┆ 41  ┆ 7             ┆ 105043 ┆ 2015-01-24 │\n",
       "│ …   ┆ …                  ┆ …   ┆ …             ┆ …      ┆ …          │\n",
       "│ 96  ┆ William Hess       ┆ 50  ┆ 7             ┆ 112757 ┆ 2018-01-09 │\n",
       "│ 97  ┆ Gina Mason         ┆ 58  ┆ 2             ┆ 95283  ┆ 2017-01-14 │\n",
       "│ 98  ┆ Thomas Rodriguez   ┆ 32  ┆ 6             ┆ 104515 ┆ 2018-01-24 │\n",
       "│ 99  ┆ Catherine Gross    ┆ 56  ┆ 5             ┆ 99179  ┆ 2019-08-04 │\n",
       "│ 100 ┆ Joseph Bowen       ┆ 28  ┆ 3             ┆ 76667  ┆ 2021-01-18 │\n",
       "└─────┴────────────────────┴─────┴───────────────┴────────┴────────────┘"
      ]
     },
     "execution_count": 3,
     "metadata": {},
     "output_type": "execute_result"
    }
   ],
   "source": [
    "employees"
   ]
  }
 ],
 "metadata": {
  "kernelspec": {
   "display_name": "Python 3",
   "language": "python",
   "name": "python3"
  },
  "language_info": {
   "codemirror_mode": {
    "name": "ipython",
    "version": 3
   },
   "file_extension": ".py",
   "mimetype": "text/x-python",
   "name": "python",
   "nbconvert_exporter": "python",
   "pygments_lexer": "ipython3",
   "version": "3.12.5"
  }
 },
 "nbformat": 4,
 "nbformat_minor": 2
}
